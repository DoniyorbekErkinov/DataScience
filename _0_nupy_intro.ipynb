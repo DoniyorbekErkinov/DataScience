{
  "nbformat": 4,
  "nbformat_minor": 0,
  "metadata": {
    "colab": {
      "provenance": [],
      "gpuType": "T4",
      "authorship_tag": "ABX9TyOvNpGhszqQmKZKcSD7xrDq",
      "include_colab_link": true
    },
    "kernelspec": {
      "name": "python3",
      "display_name": "Python 3"
    },
    "language_info": {
      "name": "python"
    },
    "accelerator": "GPU"
  },
  "cells": [
    {
      "cell_type": "markdown",
      "metadata": {
        "id": "view-in-github",
        "colab_type": "text"
      },
      "source": [
        "<a href=\"https://colab.research.google.com/github/DoniyorbekErkinov/DataScience/blob/main/_0_nupy_intro.ipynb\" target=\"_parent\"><img src=\"https://colab.research.google.com/assets/colab-badge.svg\" alt=\"Open In Colab\"/></a>"
      ]
    },
    {
      "cell_type": "code",
      "execution_count": 1,
      "metadata": {
        "id": "Fn0QFWdUJBWQ"
      },
      "outputs": [],
      "source": [
        "import numpy as np"
      ]
    },
    {
      "cell_type": "code",
      "source": [
        "my_list = list(range(10000))  # python list 0~99999 --> Normal\n",
        "my_array = np.array((range(100000)))  # numpy array(massiv) 0~99999 vektorlashgan\n"
      ],
      "metadata": {
        "id": "hdW7TaUWJiTR"
      },
      "execution_count": 5,
      "outputs": []
    },
    {
      "cell_type": "code",
      "source": [
        "%time for _ in range(11): [x*2 for x in my_list] # normal hisoblashda ketgan vaqt"
      ],
      "metadata": {
        "colab": {
          "base_uri": "https://localhost:8080/"
        },
        "id": "NGf8c34gKLOv",
        "outputId": "8f79f9ed-e915-4737-a83a-3345a2fe8c11"
      },
      "execution_count": 8,
      "outputs": [
        {
          "output_type": "stream",
          "name": "stdout",
          "text": [
            "CPU times: user 10.8 ms, sys: 0 ns, total: 10.8 ms\n",
            "Wall time: 11.9 ms\n"
          ]
        }
      ]
    },
    {
      "cell_type": "code",
      "source": [
        "%time for _ in range(11): my_array*2 #vektorlashgan"
      ],
      "metadata": {
        "colab": {
          "base_uri": "https://localhost:8080/"
        },
        "id": "KDa4K1riKfk8",
        "outputId": "ecee265f-c495-41d3-a804-a87c6699568e"
      },
      "execution_count": 9,
      "outputs": [
        {
          "output_type": "stream",
          "name": "stdout",
          "text": [
            "CPU times: user 2.45 ms, sys: 0 ns, total: 2.45 ms\n",
            "Wall time: 5.65 ms\n"
          ]
        }
      ]
    }
  ]
}